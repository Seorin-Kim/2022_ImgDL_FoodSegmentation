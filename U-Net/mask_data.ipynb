{
 "cells": [
  {
   "cell_type": "code",
   "execution_count": 1,
   "metadata": {},
   "outputs": [
    {
     "name": "stdout",
     "output_type": "stream",
     "text": [
      "device: cpu\n"
     ]
    }
   ],
   "source": [
    "import torch\n",
    "\n",
    "device = torch.device(\"mps\") if torch.backends.mps.is_available() else \"cpu\"\n",
    "print(f\"device: {device}\")"
   ]
  },
  {
   "cell_type": "code",
   "execution_count": 2,
   "metadata": {},
   "outputs": [],
   "source": [
    "# Reading annotations.json\n",
    "\n",
    "TRAIN_ANNOTATIONS_PATH = \"D:/2022_imgdl/data/training/annotations.json\"\n",
    "TRAIN_IMAGE_DIRECTIORY = \"D:/2022_imgdl/data/training/images/\"\n",
    "\n",
    "VAL_ANNOTATIONS_PATH = \"D:/2022_imgdl/data/validation/annotations.json\"\n",
    "VAL_IMAGE_DIRECTIORY = \"D:/2022_imgdl/data/validation/images/\""
   ]
  },
  {
   "cell_type": "code",
   "execution_count": 25,
   "metadata": {},
   "outputs": [],
   "source": [
    "# Reading the annotation files\n",
    "import json\n",
    "\n",
    "with open(TRAIN_ANNOTATIONS_PATH) as f:\n",
    "  train_annotations_data = json.load(f)\n",
    "\n",
    "with open(VAL_ANNOTATIONS_PATH) as f:\n",
    "  val_annotations_data = json.load(f)"
   ]
  },
  {
   "cell_type": "code",
   "execution_count": 26,
   "metadata": {},
   "outputs": [
    {
     "name": "stdout",
     "output_type": "stream",
     "text": [
      "loading annotations into memory...\n",
      "Done (t=0.28s)\n",
      "creating index...\n",
      "index created!\n"
     ]
    }
   ],
   "source": [
    "# For reading annotations file\n",
    "import pycocotools\n",
    "from pycocotools.coco import COCO\n",
    "\n",
    "train_coco = COCO(TRAIN_ANNOTATIONS_PATH)\n",
    "val_coco = COCO(VAL_ANNOTATIONS_PATH)"
   ]
  },
  {
   "cell_type": "code",
   "execution_count": null,
   "metadata": {},
   "outputs": [],
   "source": [
    "import matplotlib.pyplot as plt\n",
    "\n",
    "start_no = 1\n",
    "end_no = len(train_annotations_data['images'])\n",
    "\n",
    "for img_no in range(end_no):\n",
    "    \n",
    "    annIds = train_coco.getAnnIds(imgIds=train_annotations_data['images'][img_no]['id'])\n",
    "    anns = train_coco.loadAnns(annIds)\n",
    "\n",
    "    # load and render the image\n",
    "    plt.imshow(plt.imread(TRAIN_IMAGE_DIRECTIORY+train_annotations_data['images'][img_no]['file_name']))\n",
    "    plt.axis('off')\n",
    "    # Render annotations on top of the image\n",
    "    train_coco.showAnns(anns)\n",
    "\n",
    "    mask = train_coco.annToMask(anns[0])\n",
    "    for i in range(len(anns)):\n",
    "        mask += train_coco.annToMask(anns[i])\n",
    "        plt.imshow(mask)\n",
    "        plt.axis(\"off\")\n",
    "        plt.savefig(fname='D:/2022_imgdl/data/training/masks/' + str(train_annotations_data['images'][img_no]['id']) + '.png', bbox_inches='tight', pad_inches=0)\n",
    "    \n",
    "    # plot 초기화\n",
    "    plt.clf()"
   ]
  },
  {
   "cell_type": "code",
   "execution_count": null,
   "metadata": {},
   "outputs": [],
   "source": [
    "# change file name\n",
    "import os\n",
    "\n",
    "path = \"D:/2022_imgdl/data/training/masks\"\n",
    "file_list = os.listdir(path)\n",
    "\n",
    "for name in file_list:\n",
    "    newname = name.replace(\".png\", \"\")\n",
    "    newname = newname.zfill(6)\n",
    "\n",
    "    newname = newname + \".png\"\n",
    "    src = os.path.join(path, name)\n",
    "    dst = os.path.join(path, newname)\n",
    "    os.rename(src, dst)"
   ]
  },
  {
   "cell_type": "code",
   "execution_count": 30,
   "metadata": {},
   "outputs": [
    {
     "data": {
      "text/plain": [
       "<Figure size 432x288 with 0 Axes>"
      ]
     },
     "metadata": {},
     "output_type": "display_data"
    }
   ],
   "source": [
    "import matplotlib.pyplot as plt\n",
    "\n",
    "start_no = 1\n",
    "end_no = len(val_annotations_data['images'])\n",
    "\n",
    "for img_no in range(end_no):\n",
    "    \n",
    "    annIds = val_coco.getAnnIds(imgIds=val_annotations_data['images'][img_no]['id'])\n",
    "    anns = val_coco.loadAnns(annIds)\n",
    "\n",
    "    # load and render the image\n",
    "    plt.imshow(plt.imread(VAL_IMAGE_DIRECTIORY+val_annotations_data['images'][img_no]['file_name']))\n",
    "    plt.axis('off')\n",
    "    # Render annotations on top of the image\n",
    "    val_coco.showAnns(anns)\n",
    "\n",
    "    mask = val_coco.annToMask(anns[0])\n",
    "    for i in range(len(anns)):\n",
    "        mask += val_coco.annToMask(anns[i])\n",
    "        plt.imshow(mask)\n",
    "        plt.axis(\"off\")\n",
    "        plt.savefig(fname='D:/2022_imgdl/data/validation/masks/' + str(val_annotations_data['images'][img_no]['id']) + '.png', bbox_inches='tight', pad_inches=0)\n",
    "    \n",
    "    # plot 초기화\n",
    "    plt.clf()"
   ]
  },
  {
   "cell_type": "code",
   "execution_count": 31,
   "metadata": {},
   "outputs": [],
   "source": [
    "# change file name\n",
    "import os\n",
    "\n",
    "path = \"D:/2022_imgdl/data/validation/masks\"\n",
    "file_list = os.listdir(path)\n",
    "\n",
    "for name in file_list:\n",
    "    newname = name.replace(\".png\", \"\")\n",
    "    newname = newname.zfill(6)\n",
    "\n",
    "    newname = newname + \".png\"\n",
    "    src = os.path.join(path, name)\n",
    "    dst = os.path.join(path, newname)\n",
    "    os.rename(src, dst)"
   ]
  },
  {
   "cell_type": "code",
   "execution_count": 1,
   "metadata": {},
   "outputs": [],
   "source": [
    "train_dir_path = \"D:/2022_imgdl/data/training/images\"\n",
    "train_ids = os.listdir(train_dir_path)\n",
    "val_dir_path = \"D:/2022_imgdl/data/validation/images\"\n",
    "val_ids = os.listdir(val_dir_path)"
   ]
  },
  {
   "cell_type": "code",
   "execution_count": 2,
   "metadata": {},
   "outputs": [],
   "source": [
    "# hyperparameter\n",
    "IMG_WIDTH = 128\n",
    "IMG_HEIGHT = 128\n",
    "IMG_CHANNELS = 3\n",
    "width_out = 128\n",
    "height_out = 128"
   ]
  },
  {
   "cell_type": "code",
   "execution_count": 19,
   "metadata": {},
   "outputs": [],
   "source": [
    "import numpy as np\n",
    "\n",
    "x_train = np.zeros((len(train_ids), IMG_HEIGHT, IMG_WIDTH, IMG_CHANNELS), dtype=np.uint8)\n",
    "y_train = np.zeros((len(train_ids), height_out, width_out, 1), dtype=bool)\n",
    "x_val = np.zeros((len(val_ids), IMG_HEIGHT, IMG_WIDTH, IMG_CHANNELS), dtype=np.uint8)\n",
    "y_val = np.zeros((len(val_ids), height_out, width_out, 1), dtype=bool)"
   ]
  },
  {
   "cell_type": "code",
   "execution_count": 64,
   "metadata": {},
   "outputs": [],
   "source": [
    "import cv2\n",
    "\n",
    "for i, id_ in enumerate(train_ids):\n",
    "    img = cv2.imread('D:/2022_imgdl/data/training/images/'+id_)\n",
    "    img = cv2.resize(img, (IMG_HEIGHT, IMG_WIDTH))\n",
    "    x_train[i] = img\n",
    "\n",
    "    mask = np.zeros((height_out,width_out,1), dtype=bool)\n",
    "    mask_path = \"D:/2022_imgdl/data/training/masks/\"\n",
    "    mask_ = cv2.imread(mask_path+id_[:6]+\".png\", 0)\n",
    "    mask_ = cv2.resize(mask_, (height_out, width_out))\n",
    "    mask_ = np.expand_dims(mask_, axis=-1)\n",
    "    mask_ = np.where(mask_ >= 115, True, False)\n",
    "    mask = np.maximum(mask,mask_)\n",
    "\n",
    "    y_train[i] = mask"
   ]
  },
  {
   "cell_type": "code",
   "execution_count": 59,
   "metadata": {},
   "outputs": [],
   "source": [
    "for i, id_ in enumerate(val_ids):\n",
    "    img = cv2.imread('D:/2022_imgdl/data/validation/images/'+id_)\n",
    "    img = cv2.resize(img, (IMG_HEIGHT, IMG_WIDTH))\n",
    "    x_val[i] = img\n",
    "\n",
    "    mask = np.zeros((height_out,width_out,1), dtype=bool)\n",
    "    mask_path = \"D:/2022_imgdl/data/validation/masks/\"\n",
    "    mask_ = cv2.imread(mask_path+id_[:6]+\".png\", 0)\n",
    "    mask_ = cv2.resize(mask_, (height_out, width_out))\n",
    "    mask_ = np.expand_dims(mask_, axis=-1)\n",
    "    mask_ = np.where(mask_ >= 115, True, False)\n",
    "    mask = np.maximum(mask,mask_)\n",
    "\n",
    "    y_val[i] = mask"
   ]
  },
  {
   "cell_type": "code",
   "execution_count": 65,
   "metadata": {},
   "outputs": [],
   "source": [
    "np.save(\"x_train.npy\", x_train)\n",
    "np.save(\"y_train.npy\", y_train)\n",
    "np.save(\"x_val.npy\", x_val)\n",
    "np.save(\"y_val.npy\", y_val)"
   ]
  },
  {
   "cell_type": "code",
   "execution_count": null,
   "metadata": {},
   "outputs": [],
   "source": []
  }
 ],
 "metadata": {
  "kernelspec": {
   "display_name": "Python 3.8.5 ('base')",
   "language": "python",
   "name": "python3"
  },
  "language_info": {
   "codemirror_mode": {
    "name": "ipython",
    "version": 3
   },
   "file_extension": ".py",
   "mimetype": "text/x-python",
   "name": "python",
   "nbconvert_exporter": "python",
   "pygments_lexer": "ipython3",
   "version": "3.8.5"
  },
  "orig_nbformat": 4,
  "vscode": {
   "interpreter": {
    "hash": "9c1d5a056f04d97314a9f946bc8c5185004572d3d68312220c0ba298420421f7"
   }
  }
 },
 "nbformat": 4,
 "nbformat_minor": 2
}
